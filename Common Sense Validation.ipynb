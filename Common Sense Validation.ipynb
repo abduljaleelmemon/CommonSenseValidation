{
  "nbformat": 4,
  "nbformat_minor": 0,
  "metadata": {
    "colab": {
      "name": "i170160_D.ipynb",
      "provenance": [],
      "collapsed_sections": []
    },
    "kernelspec": {
      "name": "python3",
      "display_name": "Python 3"
    },
    "accelerator": "GPU"
  },
  "cells": [
    {
      "cell_type": "code",
      "metadata": {
        "id": "YgPZM4-0e-aK",
        "colab": {
          "base_uri": "https://localhost:8080/"
        },
        "outputId": "986ec553-3297-441d-c3d9-0699fece695b"
      },
      "source": [
        "!pip install transformers==3.0.1 \n",
        "import numpy as np\n",
        "import pandas as pd\n",
        "import torch, math\n",
        "import torch.nn as nn\n",
        "from sklearn.model_selection import train_test_split\n",
        "from sklearn.metrics import classification_report\n",
        "import transformers\n",
        "from transformers import BertTokenizerFast\n",
        "# specify GPU\n",
        "device = torch.device(\"cuda\")\n",
        "from transformers import *\n",
        "tokenizer = BertTokenizer.from_pretrained('bert-large-uncased')\n",
        "config = BertConfig.from_pretrained('bert-large-uncased', num_labels=2)"
      ],
      "execution_count": 1,
      "outputs": [
        {
          "output_type": "stream",
          "text": [
            "Requirement already satisfied: transformers==3.0.1 in /usr/local/lib/python3.6/dist-packages (3.0.1)\n",
            "Requirement already satisfied: numpy in /usr/local/lib/python3.6/dist-packages (from transformers==3.0.1) (1.18.5)\n",
            "Requirement already satisfied: tqdm>=4.27 in /usr/local/lib/python3.6/dist-packages (from transformers==3.0.1) (4.41.1)\n",
            "Requirement already satisfied: requests in /usr/local/lib/python3.6/dist-packages (from transformers==3.0.1) (2.23.0)\n",
            "Requirement already satisfied: sentencepiece!=0.1.92 in /usr/local/lib/python3.6/dist-packages (from transformers==3.0.1) (0.1.94)\n",
            "Requirement already satisfied: sacremoses in /usr/local/lib/python3.6/dist-packages (from transformers==3.0.1) (0.0.43)\n",
            "Requirement already satisfied: regex!=2019.12.17 in /usr/local/lib/python3.6/dist-packages (from transformers==3.0.1) (2019.12.20)\n",
            "Requirement already satisfied: packaging in /usr/local/lib/python3.6/dist-packages (from transformers==3.0.1) (20.4)\n",
            "Requirement already satisfied: tokenizers==0.8.0-rc4 in /usr/local/lib/python3.6/dist-packages (from transformers==3.0.1) (0.8.0rc4)\n",
            "Requirement already satisfied: filelock in /usr/local/lib/python3.6/dist-packages (from transformers==3.0.1) (3.0.12)\n",
            "Requirement already satisfied: dataclasses; python_version < \"3.7\" in /usr/local/lib/python3.6/dist-packages (from transformers==3.0.1) (0.8)\n",
            "Requirement already satisfied: certifi>=2017.4.17 in /usr/local/lib/python3.6/dist-packages (from requests->transformers==3.0.1) (2020.11.8)\n",
            "Requirement already satisfied: chardet<4,>=3.0.2 in /usr/local/lib/python3.6/dist-packages (from requests->transformers==3.0.1) (3.0.4)\n",
            "Requirement already satisfied: urllib3!=1.25.0,!=1.25.1,<1.26,>=1.21.1 in /usr/local/lib/python3.6/dist-packages (from requests->transformers==3.0.1) (1.24.3)\n",
            "Requirement already satisfied: idna<3,>=2.5 in /usr/local/lib/python3.6/dist-packages (from requests->transformers==3.0.1) (2.10)\n",
            "Requirement already satisfied: six in /usr/local/lib/python3.6/dist-packages (from sacremoses->transformers==3.0.1) (1.15.0)\n",
            "Requirement already satisfied: click in /usr/local/lib/python3.6/dist-packages (from sacremoses->transformers==3.0.1) (7.1.2)\n",
            "Requirement already satisfied: joblib in /usr/local/lib/python3.6/dist-packages (from sacremoses->transformers==3.0.1) (0.17.0)\n",
            "Requirement already satisfied: pyparsing>=2.0.2 in /usr/local/lib/python3.6/dist-packages (from packaging->transformers==3.0.1) (2.4.7)\n"
          ],
          "name": "stdout"
        }
      ]
    },
    {
      "cell_type": "code",
      "metadata": {
        "id": "qTVeBKRQff8H"
      },
      "source": [
        "class BertTwoSentences(BertPreTrainedModel):\n",
        "    def __init__(self, config, num_labels):\n",
        "        super(BertTwoSentences, self).__init__(config)\n",
        "        self.num_labels = num_labels\n",
        "        self.bert = BertModel(config)\n",
        "        self.dropout = nn.Dropout(config.hidden_dropout_prob)\n",
        "        self.pre_linear = nn.Linear(config.hidden_size, 300)\n",
        "        self.activation = nn.SELU()\n",
        "        self.reduce_fuse_linear = nn.Linear(600, 300)\n",
        "        self.cos = nn.CosineSimilarity()\n",
        "        self.rank_margin = nn.MarginRankingLoss(margin=0.4)\n",
        "        self.init_weights()\n",
        "    def forward(self, sentence1, sentence2, labels=None):\n",
        "        _, sentence1 = self.bert(sentence1)\n",
        "        sentence1 = self.activation(sentence1)\n",
        "        sentence1 = self.pre_linear(sentence1)\n",
        "        ori = sentence2\n",
        "        _, sentence2 = self.bert(sentence2)\n",
        "        sentence2 = self.activation(sentence2)\n",
        "        sentence2 = self.pre_linear(sentence2)\n",
        "        sent_concat = torch.cat((sentence1 + sentence2, sentence1 * sentence2), dim=1)\n",
        "        sent_concat = self.reduce_fuse_linear(sent_concat)\n",
        "        cos_sim1 = self.cos(sent_concat, sentence1)\n",
        "        cos_sim2 = self.cos(sent_concat, sentence2)\n",
        "        outputs = (cos_sim1, cos_sim2), None, None\n",
        "        if labels is not None:\n",
        "            labels[labels==0] = -1\n",
        "            loss_rank = self.rank_margin(cos_sim1, cos_sim2, labels)\n",
        "            outputs = (loss_rank,) + outputs\n",
        "        return outputs"
      ],
      "execution_count": 2,
      "outputs": []
    },
    {
      "cell_type": "code",
      "metadata": {
        "id": "PmVTQDJ2fvjv",
        "colab": {
          "base_uri": "https://localhost:8080/"
        },
        "outputId": "134dd989-f3e6-4aa6-c4fc-118668aac216"
      },
      "source": [
        "import torch.nn as nn\n",
        "model = BertTwoSentences.from_pretrained('bert-large-uncased', config=config, num_labels=2)"
      ],
      "execution_count": 3,
      "outputs": [
        {
          "output_type": "stream",
          "text": [
            "Some weights of the model checkpoint at bert-large-uncased were not used when initializing BertTwoSentences: ['cls.predictions.bias', 'cls.predictions.transform.dense.weight', 'cls.predictions.transform.dense.bias', 'cls.predictions.decoder.weight', 'cls.seq_relationship.weight', 'cls.seq_relationship.bias', 'cls.predictions.transform.LayerNorm.weight', 'cls.predictions.transform.LayerNorm.bias']\n",
            "- This IS expected if you are initializing BertTwoSentences from the checkpoint of a model trained on another task or with another architecture (e.g. initializing a BertForSequenceClassification model from a BertForPretraining model).\n",
            "- This IS NOT expected if you are initializing BertTwoSentences from the checkpoint of a model that you expect to be exactly identical (initializing a BertForSequenceClassification model from a BertForSequenceClassification model).\n",
            "Some weights of BertTwoSentences were not initialized from the model checkpoint at bert-large-uncased and are newly initialized: ['pre_linear.weight', 'pre_linear.bias', 'reduce_fuse_linear.weight', 'reduce_fuse_linear.bias']\n",
            "You should probably TRAIN this model on a down-stream task to be able to use it for predictions and inference.\n"
          ],
          "name": "stderr"
        }
      ]
    },
    {
      "cell_type": "code",
      "metadata": {
        "id": "STUiOmXFf0Y-"
      },
      "source": [
        "model = model.to(device)"
      ],
      "execution_count": 4,
      "outputs": []
    },
    {
      "cell_type": "code",
      "metadata": {
        "id": "q0wnf-tMgmW5"
      },
      "source": [
        "# optimizer from hugging face transformers\n",
        "from transformers import AdamW\n",
        "\n",
        "# define the optimizer\n",
        "optimizer = AdamW(model.parameters(), lr = 2e-5, eps = 1e-8 )"
      ],
      "execution_count": 5,
      "outputs": []
    },
    {
      "cell_type": "code",
      "metadata": {
        "colab": {
          "resources": {
            "http://localhost:8080/nbextensions/google.colab/files.js": {
              "data": "Ly8gQ29weXJpZ2h0IDIwMTcgR29vZ2xlIExMQwovLwovLyBMaWNlbnNlZCB1bmRlciB0aGUgQXBhY2hlIExpY2Vuc2UsIFZlcnNpb24gMi4wICh0aGUgIkxpY2Vuc2UiKTsKLy8geW91IG1heSBub3QgdXNlIHRoaXMgZmlsZSBleGNlcHQgaW4gY29tcGxpYW5jZSB3aXRoIHRoZSBMaWNlbnNlLgovLyBZb3UgbWF5IG9idGFpbiBhIGNvcHkgb2YgdGhlIExpY2Vuc2UgYXQKLy8KLy8gICAgICBodHRwOi8vd3d3LmFwYWNoZS5vcmcvbGljZW5zZXMvTElDRU5TRS0yLjAKLy8KLy8gVW5sZXNzIHJlcXVpcmVkIGJ5IGFwcGxpY2FibGUgbGF3IG9yIGFncmVlZCB0byBpbiB3cml0aW5nLCBzb2Z0d2FyZQovLyBkaXN0cmlidXRlZCB1bmRlciB0aGUgTGljZW5zZSBpcyBkaXN0cmlidXRlZCBvbiBhbiAiQVMgSVMiIEJBU0lTLAovLyBXSVRIT1VUIFdBUlJBTlRJRVMgT1IgQ09ORElUSU9OUyBPRiBBTlkgS0lORCwgZWl0aGVyIGV4cHJlc3Mgb3IgaW1wbGllZC4KLy8gU2VlIHRoZSBMaWNlbnNlIGZvciB0aGUgc3BlY2lmaWMgbGFuZ3VhZ2UgZ292ZXJuaW5nIHBlcm1pc3Npb25zIGFuZAovLyBsaW1pdGF0aW9ucyB1bmRlciB0aGUgTGljZW5zZS4KCi8qKgogKiBAZmlsZW92ZXJ2aWV3IEhlbHBlcnMgZm9yIGdvb2dsZS5jb2xhYiBQeXRob24gbW9kdWxlLgogKi8KKGZ1bmN0aW9uKHNjb3BlKSB7CmZ1bmN0aW9uIHNwYW4odGV4dCwgc3R5bGVBdHRyaWJ1dGVzID0ge30pIHsKICBjb25zdCBlbGVtZW50ID0gZG9jdW1lbnQuY3JlYXRlRWxlbWVudCgnc3BhbicpOwogIGVsZW1lbnQudGV4dENvbnRlbnQgPSB0ZXh0OwogIGZvciAoY29uc3Qga2V5IG9mIE9iamVjdC5rZXlzKHN0eWxlQXR0cmlidXRlcykpIHsKICAgIGVsZW1lbnQuc3R5bGVba2V5XSA9IHN0eWxlQXR0cmlidXRlc1trZXldOwogIH0KICByZXR1cm4gZWxlbWVudDsKfQoKLy8gTWF4IG51bWJlciBvZiBieXRlcyB3aGljaCB3aWxsIGJlIHVwbG9hZGVkIGF0IGEgdGltZS4KY29uc3QgTUFYX1BBWUxPQURfU0laRSA9IDEwMCAqIDEwMjQ7CgpmdW5jdGlvbiBfdXBsb2FkRmlsZXMoaW5wdXRJZCwgb3V0cHV0SWQpIHsKICBjb25zdCBzdGVwcyA9IHVwbG9hZEZpbGVzU3RlcChpbnB1dElkLCBvdXRwdXRJZCk7CiAgY29uc3Qgb3V0cHV0RWxlbWVudCA9IGRvY3VtZW50LmdldEVsZW1lbnRCeUlkKG91dHB1dElkKTsKICAvLyBDYWNoZSBzdGVwcyBvbiB0aGUgb3V0cHV0RWxlbWVudCB0byBtYWtlIGl0IGF2YWlsYWJsZSBmb3IgdGhlIG5leHQgY2FsbAogIC8vIHRvIHVwbG9hZEZpbGVzQ29udGludWUgZnJvbSBQeXRob24uCiAgb3V0cHV0RWxlbWVudC5zdGVwcyA9IHN0ZXBzOwoKICByZXR1cm4gX3VwbG9hZEZpbGVzQ29udGludWUob3V0cHV0SWQpOwp9CgovLyBUaGlzIGlzIHJvdWdobHkgYW4gYXN5bmMgZ2VuZXJhdG9yIChub3Qgc3VwcG9ydGVkIGluIHRoZSBicm93c2VyIHlldCksCi8vIHdoZXJlIHRoZXJlIGFyZSBtdWx0aXBsZSBhc3luY2hyb25vdXMgc3RlcHMgYW5kIHRoZSBQeXRob24gc2lkZSBpcyBnb2luZwovLyB0byBwb2xsIGZvciBjb21wbGV0aW9uIG9mIGVhY2ggc3RlcC4KLy8gVGhpcyB1c2VzIGEgUHJvbWlzZSB0byBibG9jayB0aGUgcHl0aG9uIHNpZGUgb24gY29tcGxldGlvbiBvZiBlYWNoIHN0ZXAsCi8vIHRoZW4gcGFzc2VzIHRoZSByZXN1bHQgb2YgdGhlIHByZXZpb3VzIHN0ZXAgYXMgdGhlIGlucHV0IHRvIHRoZSBuZXh0IHN0ZXAuCmZ1bmN0aW9uIF91cGxvYWRGaWxlc0NvbnRpbnVlKG91dHB1dElkKSB7CiAgY29uc3Qgb3V0cHV0RWxlbWVudCA9IGRvY3VtZW50LmdldEVsZW1lbnRCeUlkKG91dHB1dElkKTsKICBjb25zdCBzdGVwcyA9IG91dHB1dEVsZW1lbnQuc3RlcHM7CgogIGNvbnN0IG5leHQgPSBzdGVwcy5uZXh0KG91dHB1dEVsZW1lbnQubGFzdFByb21pc2VWYWx1ZSk7CiAgcmV0dXJuIFByb21pc2UucmVzb2x2ZShuZXh0LnZhbHVlLnByb21pc2UpLnRoZW4oKHZhbHVlKSA9PiB7CiAgICAvLyBDYWNoZSB0aGUgbGFzdCBwcm9taXNlIHZhbHVlIHRvIG1ha2UgaXQgYXZhaWxhYmxlIHRvIHRoZSBuZXh0CiAgICAvLyBzdGVwIG9mIHRoZSBnZW5lcmF0b3IuCiAgICBvdXRwdXRFbGVtZW50Lmxhc3RQcm9taXNlVmFsdWUgPSB2YWx1ZTsKICAgIHJldHVybiBuZXh0LnZhbHVlLnJlc3BvbnNlOwogIH0pOwp9CgovKioKICogR2VuZXJhdG9yIGZ1bmN0aW9uIHdoaWNoIGlzIGNhbGxlZCBiZXR3ZWVuIGVhY2ggYXN5bmMgc3RlcCBvZiB0aGUgdXBsb2FkCiAqIHByb2Nlc3MuCiAqIEBwYXJhbSB7c3RyaW5nfSBpbnB1dElkIEVsZW1lbnQgSUQgb2YgdGhlIGlucHV0IGZpbGUgcGlja2VyIGVsZW1lbnQuCiAqIEBwYXJhbSB7c3RyaW5nfSBvdXRwdXRJZCBFbGVtZW50IElEIG9mIHRoZSBvdXRwdXQgZGlzcGxheS4KICogQHJldHVybiB7IUl0ZXJhYmxlPCFPYmplY3Q+fSBJdGVyYWJsZSBvZiBuZXh0IHN0ZXBzLgogKi8KZnVuY3Rpb24qIHVwbG9hZEZpbGVzU3RlcChpbnB1dElkLCBvdXRwdXRJZCkgewogIGNvbnN0IGlucHV0RWxlbWVudCA9IGRvY3VtZW50LmdldEVsZW1lbnRCeUlkKGlucHV0SWQpOwogIGlucHV0RWxlbWVudC5kaXNhYmxlZCA9IGZhbHNlOwoKICBjb25zdCBvdXRwdXRFbGVtZW50ID0gZG9jdW1lbnQuZ2V0RWxlbWVudEJ5SWQob3V0cHV0SWQpOwogIG91dHB1dEVsZW1lbnQuaW5uZXJIVE1MID0gJyc7CgogIGNvbnN0IHBpY2tlZFByb21pc2UgPSBuZXcgUHJvbWlzZSgocmVzb2x2ZSkgPT4gewogICAgaW5wdXRFbGVtZW50LmFkZEV2ZW50TGlzdGVuZXIoJ2NoYW5nZScsIChlKSA9PiB7CiAgICAgIHJlc29sdmUoZS50YXJnZXQuZmlsZXMpOwogICAgfSk7CiAgfSk7CgogIGNvbnN0IGNhbmNlbCA9IGRvY3VtZW50LmNyZWF0ZUVsZW1lbnQoJ2J1dHRvbicpOwogIGlucHV0RWxlbWVudC5wYXJlbnRFbGVtZW50LmFwcGVuZENoaWxkKGNhbmNlbCk7CiAgY2FuY2VsLnRleHRDb250ZW50ID0gJ0NhbmNlbCB1cGxvYWQnOwogIGNvbnN0IGNhbmNlbFByb21pc2UgPSBuZXcgUHJvbWlzZSgocmVzb2x2ZSkgPT4gewogICAgY2FuY2VsLm9uY2xpY2sgPSAoKSA9PiB7CiAgICAgIHJlc29sdmUobnVsbCk7CiAgICB9OwogIH0pOwoKICAvLyBXYWl0IGZvciB0aGUgdXNlciB0byBwaWNrIHRoZSBmaWxlcy4KICBjb25zdCBmaWxlcyA9IHlpZWxkIHsKICAgIHByb21pc2U6IFByb21pc2UucmFjZShbcGlja2VkUHJvbWlzZSwgY2FuY2VsUHJvbWlzZV0pLAogICAgcmVzcG9uc2U6IHsKICAgICAgYWN0aW9uOiAnc3RhcnRpbmcnLAogICAgfQogIH07CgogIGNhbmNlbC5yZW1vdmUoKTsKCiAgLy8gRGlzYWJsZSB0aGUgaW5wdXQgZWxlbWVudCBzaW5jZSBmdXJ0aGVyIHBpY2tzIGFyZSBub3QgYWxsb3dlZC4KICBpbnB1dEVsZW1lbnQuZGlzYWJsZWQgPSB0cnVlOwoKICBpZiAoIWZpbGVzKSB7CiAgICByZXR1cm4gewogICAgICByZXNwb25zZTogewogICAgICAgIGFjdGlvbjogJ2NvbXBsZXRlJywKICAgICAgfQogICAgfTsKICB9CgogIGZvciAoY29uc3QgZmlsZSBvZiBmaWxlcykgewogICAgY29uc3QgbGkgPSBkb2N1bWVudC5jcmVhdGVFbGVtZW50KCdsaScpOwogICAgbGkuYXBwZW5kKHNwYW4oZmlsZS5uYW1lLCB7Zm9udFdlaWdodDogJ2JvbGQnfSkpOwogICAgbGkuYXBwZW5kKHNwYW4oCiAgICAgICAgYCgke2ZpbGUudHlwZSB8fCAnbi9hJ30pIC0gJHtmaWxlLnNpemV9IGJ5dGVzLCBgICsKICAgICAgICBgbGFzdCBtb2RpZmllZDogJHsKICAgICAgICAgICAgZmlsZS5sYXN0TW9kaWZpZWREYXRlID8gZmlsZS5sYXN0TW9kaWZpZWREYXRlLnRvTG9jYWxlRGF0ZVN0cmluZygpIDoKICAgICAgICAgICAgICAgICAgICAgICAgICAgICAgICAgICAgJ24vYSd9IC0gYCkpOwogICAgY29uc3QgcGVyY2VudCA9IHNwYW4oJzAlIGRvbmUnKTsKICAgIGxpLmFwcGVuZENoaWxkKHBlcmNlbnQpOwoKICAgIG91dHB1dEVsZW1lbnQuYXBwZW5kQ2hpbGQobGkpOwoKICAgIGNvbnN0IGZpbGVEYXRhUHJvbWlzZSA9IG5ldyBQcm9taXNlKChyZXNvbHZlKSA9PiB7CiAgICAgIGNvbnN0IHJlYWRlciA9IG5ldyBGaWxlUmVhZGVyKCk7CiAgICAgIHJlYWRlci5vbmxvYWQgPSAoZSkgPT4gewogICAgICAgIHJlc29sdmUoZS50YXJnZXQucmVzdWx0KTsKICAgICAgfTsKICAgICAgcmVhZGVyLnJlYWRBc0FycmF5QnVmZmVyKGZpbGUpOwogICAgfSk7CiAgICAvLyBXYWl0IGZvciB0aGUgZGF0YSB0byBiZSByZWFkeS4KICAgIGxldCBmaWxlRGF0YSA9IHlpZWxkIHsKICAgICAgcHJvbWlzZTogZmlsZURhdGFQcm9taXNlLAogICAgICByZXNwb25zZTogewogICAgICAgIGFjdGlvbjogJ2NvbnRpbnVlJywKICAgICAgfQogICAgfTsKCiAgICAvLyBVc2UgYSBjaHVua2VkIHNlbmRpbmcgdG8gYXZvaWQgbWVzc2FnZSBzaXplIGxpbWl0cy4gU2VlIGIvNjIxMTU2NjAuCiAgICBsZXQgcG9zaXRpb24gPSAwOwogICAgd2hpbGUgKHBvc2l0aW9uIDwgZmlsZURhdGEuYnl0ZUxlbmd0aCkgewogICAgICBjb25zdCBsZW5ndGggPSBNYXRoLm1pbihmaWxlRGF0YS5ieXRlTGVuZ3RoIC0gcG9zaXRpb24sIE1BWF9QQVlMT0FEX1NJWkUpOwogICAgICBjb25zdCBjaHVuayA9IG5ldyBVaW50OEFycmF5KGZpbGVEYXRhLCBwb3NpdGlvbiwgbGVuZ3RoKTsKICAgICAgcG9zaXRpb24gKz0gbGVuZ3RoOwoKICAgICAgY29uc3QgYmFzZTY0ID0gYnRvYShTdHJpbmcuZnJvbUNoYXJDb2RlLmFwcGx5KG51bGwsIGNodW5rKSk7CiAgICAgIHlpZWxkIHsKICAgICAgICByZXNwb25zZTogewogICAgICAgICAgYWN0aW9uOiAnYXBwZW5kJywKICAgICAgICAgIGZpbGU6IGZpbGUubmFtZSwKICAgICAgICAgIGRhdGE6IGJhc2U2NCwKICAgICAgICB9LAogICAgICB9OwogICAgICBwZXJjZW50LnRleHRDb250ZW50ID0KICAgICAgICAgIGAke01hdGgucm91bmQoKHBvc2l0aW9uIC8gZmlsZURhdGEuYnl0ZUxlbmd0aCkgKiAxMDApfSUgZG9uZWA7CiAgICB9CiAgfQoKICAvLyBBbGwgZG9uZS4KICB5aWVsZCB7CiAgICByZXNwb25zZTogewogICAgICBhY3Rpb246ICdjb21wbGV0ZScsCiAgICB9CiAgfTsKfQoKc2NvcGUuZ29vZ2xlID0gc2NvcGUuZ29vZ2xlIHx8IHt9OwpzY29wZS5nb29nbGUuY29sYWIgPSBzY29wZS5nb29nbGUuY29sYWIgfHwge307CnNjb3BlLmdvb2dsZS5jb2xhYi5fZmlsZXMgPSB7CiAgX3VwbG9hZEZpbGVzLAogIF91cGxvYWRGaWxlc0NvbnRpbnVlLAp9Owp9KShzZWxmKTsK",
              "ok": true,
              "headers": [
                [
                  "content-type",
                  "application/javascript"
                ]
              ],
              "status": 200,
              "status_text": ""
            }
          },
          "base_uri": "https://localhost:8080/",
          "height": 242
        },
        "id": "s-V26eOQfZwB",
        "outputId": "01685171-a308-4428-fa15-68e387b9738d"
      },
      "source": [
        "from google.colab import files\n",
        "\n",
        "uploaded = files.upload() #upload all 6 datasets here"
      ],
      "execution_count": 6,
      "outputs": [
        {
          "output_type": "display_data",
          "data": {
            "text/html": [
              "\n",
              "     <input type=\"file\" id=\"files-5a5f54b7-aaec-4a80-80c8-c7e611679283\" name=\"files[]\" multiple disabled\n",
              "        style=\"border:none\" />\n",
              "     <output id=\"result-5a5f54b7-aaec-4a80-80c8-c7e611679283\">\n",
              "      Upload widget is only available when the cell has been executed in the\n",
              "      current browser session. Please rerun this cell to enable.\n",
              "      </output>\n",
              "      <script src=\"/nbextensions/google.colab/files.js\"></script> "
            ],
            "text/plain": [
              "<IPython.core.display.HTML object>"
            ]
          },
          "metadata": {
            "tags": []
          }
        },
        {
          "output_type": "stream",
          "text": [
            "Saving subtaskA__dev_gold_answers.csv to subtaskA__dev_gold_answers (1).csv\n",
            "Saving subtaskA_answers_all.csv to subtaskA_answers_all (1).csv\n",
            "Saving subtaskA_data_all.csv to subtaskA_data_all (1).csv\n",
            "Saving subtaskA_dev_data.csv to subtaskA_dev_data (1).csv\n",
            "Saving subtaskA_gold_answers.csv to subtaskA_gold_answers (1).csv\n",
            "Saving subtaskA_test_data.csv to subtaskA_test_data (1).csv\n"
          ],
          "name": "stdout"
        }
      ]
    },
    {
      "cell_type": "code",
      "metadata": {
        "id": "9i_WNJgojpUz"
      },
      "source": [
        "train_text = pd.read_csv(\"subtaskA_data_all.csv\")\n",
        "train_lab = pd.read_csv(\"subtaskA_answers_all.csv\",header=None)\n",
        "train_lab = train_lab.drop([0], axis=1)\n",
        "train_labels = train_lab.rename(columns={1: 'Invalid'})\n",
        "test_text = pd.read_csv(\"subtaskA_test_data.csv\")\n",
        "test_lab = pd.read_csv(\"subtaskA_gold_answers.csv\",header=None)\n",
        "test_lab = test_lab.drop([0], axis=1)\n",
        "test_labels = test_lab.rename(columns={1: 'Invalid'})\n",
        "val_text = pd.read_csv(\"subtaskA_dev_data.csv\")\n",
        "val_lab = pd.read_csv(\"subtaskA__dev_gold_answers.csv\",header=None)\n",
        "val_lab = val_lab.drop([0], axis=1)\n",
        "val_labels = val_lab.rename(columns={1: 'Invalid'})"
      ],
      "execution_count": 7,
      "outputs": []
    },
    {
      "cell_type": "code",
      "metadata": {
        "id": "MR7-xZZ9faaZ"
      },
      "source": [
        "train_sen0, train_sen1 = train_text['sent0'], train_text['sent1']\n",
        "val_sen0, val_sen1 = val_text['sent0'], val_text['sent1']\n",
        "test_sen0, test_sen1 = test_text['sent0'], test_text['sent1']\n",
        "train_labels, val_labels, test_labels = train_labels['Invalid'], val_labels['Invalid'], test_labels['Invalid']"
      ],
      "execution_count": 8,
      "outputs": []
    },
    {
      "cell_type": "code",
      "metadata": {
        "id": "d7IGdQJ7nZ81"
      },
      "source": [
        "import logging\n",
        "logging.basicConfig(level=logging.ERROR)\n",
        "total_tk_size = 20\n",
        "tokens_train0 = tokenizer.batch_encode_plus(train_sen0.tolist(), max_length = total_tk_size, pad_to_max_length=True, \n",
        "                                            truncation=True, return_token_type_ids=False)\n",
        "tokens_train1 = tokenizer.batch_encode_plus(train_sen1.tolist(), max_length = total_tk_size, pad_to_max_length=True,\n",
        "                                            truncation=True, return_token_type_ids=False)\n",
        "tokens_val0 = tokenizer.batch_encode_plus(val_sen0.tolist(), max_length = total_tk_size, pad_to_max_length=True, \n",
        "                                          truncation=True, return_token_type_ids=False)\n",
        "tokens_val1 = tokenizer.batch_encode_plus(val_sen1.tolist(), max_length = total_tk_size, pad_to_max_length=True,\n",
        "                                          truncation=True, return_token_type_ids=False)\n",
        "tokens_test0 = tokenizer.batch_encode_plus(test_sen0.tolist(), max_length = total_tk_size, pad_to_max_length=True,\n",
        "                                           truncation=True, return_token_type_ids=False)\n",
        "tokens_test1 = tokenizer.batch_encode_plus(test_sen1.tolist(), max_length = total_tk_size, pad_to_max_length=True, \n",
        "                                           truncation=True, return_token_type_ids=False)"
      ],
      "execution_count": 9,
      "outputs": []
    },
    {
      "cell_type": "code",
      "metadata": {
        "id": "X8ly1zM1noMI"
      },
      "source": [
        "# for train set 0 \n",
        "train_seq0 = torch.tensor(tokens_train0['input_ids'])\n",
        "train_mask0 = torch.tensor(tokens_train0['attention_mask'])\n",
        "train_y = torch.tensor(train_labels.tolist())\n",
        "# for train set 1\n",
        "train_seq1, train_mask1 = torch.tensor(tokens_train1['input_ids']), torch.tensor(tokens_train1['attention_mask'])\n",
        "# for validation set 0\n",
        "val_seq0 = torch.tensor(tokens_val0['input_ids'])\n",
        "val_mask0 = torch.tensor(tokens_val0['attention_mask'])\n",
        "val_y = torch.tensor(val_labels.tolist())\n",
        "# for validation set 1\n",
        "val_seq1, val_mask1 = torch.tensor(tokens_val1['input_ids']), torch.tensor(tokens_val1['attention_mask'])\n",
        "# for test set 0\n",
        "test_seq0 = torch.tensor(tokens_test0['input_ids'])\n",
        "test_mask0 = torch.tensor(tokens_test0['attention_mask'])\n",
        "test_y = torch.tensor(test_labels.tolist())\n",
        "# for test set 1\n",
        "test_seq1, test_mask1 = torch.tensor(tokens_test1['input_ids']), torch.tensor(tokens_test1['attention_mask'])"
      ],
      "execution_count": 10,
      "outputs": []
    },
    {
      "cell_type": "code",
      "metadata": {
        "id": "kbQqi-_doG5i"
      },
      "source": [
        "from torch.utils.data import TensorDataset, DataLoader, RandomSampler, SequentialSampler\n",
        "#define a batch size\n",
        "batch_size = 16\n",
        "# wrap tensors\n",
        "train_data0, train_data1 = TensorDataset(train_seq0, train_mask0, train_y), TensorDataset(train_seq1, train_mask1, train_y)\n",
        "# dataLoader for train set\n",
        "train_dataloader0 = DataLoader(train_data0, sampler=None, batch_size=batch_size)\n",
        "train_dataloader1 = DataLoader(train_data1, sampler=None, batch_size=batch_size)\n",
        "# wrap tensors\n",
        "val_data0, val_data1 = TensorDataset(val_seq0, val_mask0, val_y), TensorDataset(val_seq1, val_mask1, val_y)\n",
        "# sampler for sampling the data during training\n",
        "val_sampler0, val_sampler1 = SequentialSampler(val_data0), SequentialSampler(val_data1)\n",
        "# dataLoader for validation set\n",
        "val_dataloader0 = DataLoader(val_data0, sampler = val_sampler0, batch_size=batch_size)\n",
        "val_dataloader1 = DataLoader(val_data1, sampler = val_sampler1, batch_size=batch_size)"
      ],
      "execution_count": 11,
      "outputs": []
    },
    {
      "cell_type": "code",
      "metadata": {
        "id": "lx7YJVxyuu1-",
        "colab": {
          "base_uri": "https://localhost:8080/"
        },
        "outputId": "a7027272-ba5f-4a11-a684-fcb33bfd7a67"
      },
      "source": [
        "#convert class weights to tensor\n",
        "from sklearn.utils.class_weight import compute_class_weight\n",
        "#compute the class weights\n",
        "class_wts = compute_class_weight('balanced', np.unique(train_labels), train_labels)\n",
        "print(class_wts)\n",
        "weights= torch.tensor(class_wts,dtype=torch.float)\n",
        "weights = weights.to(device)\n",
        "epochs = 10"
      ],
      "execution_count": 12,
      "outputs": [
        {
          "output_type": "stream",
          "text": [
            "[1.00421771 0.99581757]\n"
          ],
          "name": "stdout"
        }
      ]
    },
    {
      "cell_type": "code",
      "metadata": {
        "id": "8cbqnecCu1i0"
      },
      "source": [
        "# function to train the model\n",
        "def train():\n",
        "  model.train()\n",
        "  total_loss, total_accuracy = 0, 0\n",
        "  # iterate over batches\n",
        "  for step, batch in enumerate(train_dataloader0):\n",
        "    # progress update after every 50 batches.\n",
        "    if step % 50 == 0 and not step == 0:\n",
        "      print('  Batch {:>5,}  of  {:>5,}.'.format(step, len(train_dataloader0)))\n",
        "    for idx, bay in enumerate(train_dataloader1):\n",
        "      if idx == step :batch11 = bay\n",
        "    # push the batch to gpu\n",
        "    batch0 = [r.to(device) for r in batch]\n",
        "    batch1 = [r.to(device) for r in batch11]\n",
        "    sent_id0, mask0, labelss = batch0\n",
        "    sent_id1, mask1, labels = batch1\n",
        "    # clear previously calculated gradients \n",
        "    model.zero_grad()        \n",
        "    # get model predictions for the current batch\n",
        "    loss, preds, _, _ = model(sent_id0, sent_id1, labels)\n",
        "    x,y = preds\n",
        "    # add on to the total loss\n",
        "    total_loss = total_loss + loss.item()\n",
        "    # backward pass to calculate the gradients\n",
        "    loss.backward()\n",
        "    # clip the the gradients to 1.0. It helps in preventing the exploding gradient problem\n",
        "    torch.nn.utils.clip_grad_norm_(model.parameters(), 1.0)\n",
        "    # update parameters\n",
        "    optimizer.step()\n",
        "    # model predictions are stored on GPU. So, push it to CPU\n",
        "  # compute the training loss of the epoch\n",
        "  avg_loss = total_loss / len(train_dataloader0)\n",
        "  #returns the loss \n",
        "  return avg_loss"
      ],
      "execution_count": 13,
      "outputs": []
    },
    {
      "cell_type": "code",
      "metadata": {
        "id": "osSayFrku4MJ"
      },
      "source": [
        "# function for evaluating the model\n",
        "def evaluate():\n",
        "  print(\"\\nEvaluating...\")\n",
        "  # deactivate dropout layers\n",
        "  model.eval()\n",
        "  total_loss, total_accuracy = 0, 0\n",
        "  # iterate over batches\n",
        "  x1 = 0\n",
        "  for step,batch in enumerate(val_dataloader0):\n",
        "    for idx, bay in enumerate(train_dataloader1):\n",
        "      if idx == step :batch11 = bay\n",
        "    if step % 50 == 0 and not step == 0:\n",
        "      print('  Batch {:>5,}  of  {:>5,}.'.format(step, len(val_dataloader0)))\n",
        "    batch0 = [r.to(device) for r in batch]\n",
        "    batch1 = [r.to(device) for r in batch11]\n",
        "    sent_id0, mask0, labelss = batch0\n",
        "    sent_id1, mask1, labels = batch1\n",
        "    # deactivate autograd\n",
        "    with torch.no_grad():\n",
        "      if len(sent_id0) == x1:\n",
        "        loss,preds,_,_ = model(sent_id0, sent_id1, labelss)\n",
        "        x,y = preds\n",
        "        # compute the loss between actual and predicted values\n",
        "        total_loss = total_loss + loss.item()\n",
        "        x1 = len(sent_id0)\n",
        "  # compute the validation loss of the epoch\n",
        "  avg_loss = total_loss / len(val_dataloader0) \n",
        "  return avg_loss"
      ],
      "execution_count": 14,
      "outputs": []
    },
    {
      "cell_type": "code",
      "metadata": {
        "colab": {
          "base_uri": "https://localhost:8080/"
        },
        "id": "W_kFmAR2vWPo",
        "outputId": "0689711c-7658-4e28-cedf-84c2f513af4e"
      },
      "source": [
        "# set initial loss to infinite\n",
        "best_valid_loss = float('inf')\n",
        "# empty lists to store training and validation loss of each epoch\n",
        "train_losses=[]\n",
        "valid_losses=[]\n",
        "#for each epoch\n",
        "for epoch in range(epochs):\n",
        "    print('\\n Epoch {:} / {:}'.format(epoch + 1, epochs))\n",
        "    #train model\n",
        "    train_loss = train()\n",
        "    #evaluate model\n",
        "    valid_loss = evaluate()\n",
        "    #save the best model\n",
        "    if valid_loss < best_valid_loss:\n",
        "        best_valid_loss = valid_loss\n",
        "        torch.save(model.state_dict(), 'model.pt')\n",
        "    # append training and validation loss\n",
        "    train_losses.append(train_loss)\n",
        "    valid_losses.append(valid_loss)\n",
        "    print(f'\\nTraining Loss: {train_loss:.3f}')\n",
        "    print(f'Validation Loss: {valid_loss:.3f}')"
      ],
      "execution_count": 15,
      "outputs": [
        {
          "output_type": "stream",
          "text": [
            "\n",
            " Epoch 1 / 10\n",
            "  Batch    50  of    625.\n",
            "  Batch   100  of    625.\n",
            "  Batch   150  of    625.\n",
            "  Batch   200  of    625.\n",
            "  Batch   250  of    625.\n",
            "  Batch   300  of    625.\n",
            "  Batch   350  of    625.\n",
            "  Batch   400  of    625.\n",
            "  Batch   450  of    625.\n",
            "  Batch   500  of    625.\n",
            "  Batch   550  of    625.\n",
            "  Batch   600  of    625.\n",
            "\n",
            "Evaluating...\n",
            "  Batch    50  of     63.\n",
            "\n",
            "Training Loss: 0.202\n",
            "Validation Loss: 0.000\n",
            "\n",
            " Epoch 2 / 10\n",
            "  Batch    50  of    625.\n",
            "  Batch   100  of    625.\n",
            "  Batch   150  of    625.\n",
            "  Batch   200  of    625.\n",
            "  Batch   250  of    625.\n",
            "  Batch   300  of    625.\n",
            "  Batch   350  of    625.\n",
            "  Batch   400  of    625.\n",
            "  Batch   450  of    625.\n",
            "  Batch   500  of    625.\n",
            "  Batch   550  of    625.\n",
            "  Batch   600  of    625.\n",
            "\n",
            "Evaluating...\n",
            "  Batch    50  of     63.\n",
            "\n",
            "Training Loss: 0.073\n",
            "Validation Loss: 0.000\n",
            "\n",
            " Epoch 3 / 10\n",
            "  Batch    50  of    625.\n",
            "  Batch   100  of    625.\n",
            "  Batch   150  of    625.\n",
            "  Batch   200  of    625.\n",
            "  Batch   250  of    625.\n",
            "  Batch   300  of    625.\n",
            "  Batch   350  of    625.\n",
            "  Batch   400  of    625.\n",
            "  Batch   450  of    625.\n",
            "  Batch   500  of    625.\n",
            "  Batch   550  of    625.\n",
            "  Batch   600  of    625.\n",
            "\n",
            "Evaluating...\n",
            "  Batch    50  of     63.\n",
            "\n",
            "Training Loss: 0.038\n",
            "Validation Loss: 0.000\n",
            "\n",
            " Epoch 4 / 10\n",
            "  Batch    50  of    625.\n",
            "  Batch   100  of    625.\n",
            "  Batch   150  of    625.\n",
            "  Batch   200  of    625.\n",
            "  Batch   250  of    625.\n",
            "  Batch   300  of    625.\n",
            "  Batch   350  of    625.\n",
            "  Batch   400  of    625.\n",
            "  Batch   450  of    625.\n",
            "  Batch   500  of    625.\n",
            "  Batch   550  of    625.\n",
            "  Batch   600  of    625.\n",
            "\n",
            "Evaluating...\n",
            "  Batch    50  of     63.\n",
            "\n",
            "Training Loss: 0.023\n",
            "Validation Loss: 0.000\n",
            "\n",
            " Epoch 5 / 10\n",
            "  Batch    50  of    625.\n",
            "  Batch   100  of    625.\n",
            "  Batch   150  of    625.\n",
            "  Batch   200  of    625.\n",
            "  Batch   250  of    625.\n",
            "  Batch   300  of    625.\n",
            "  Batch   350  of    625.\n",
            "  Batch   400  of    625.\n",
            "  Batch   450  of    625.\n",
            "  Batch   500  of    625.\n",
            "  Batch   550  of    625.\n",
            "  Batch   600  of    625.\n",
            "\n",
            "Evaluating...\n",
            "  Batch    50  of     63.\n",
            "\n",
            "Training Loss: 0.015\n",
            "Validation Loss: 0.000\n",
            "\n",
            " Epoch 6 / 10\n",
            "  Batch    50  of    625.\n",
            "  Batch   100  of    625.\n",
            "  Batch   150  of    625.\n",
            "  Batch   200  of    625.\n",
            "  Batch   250  of    625.\n",
            "  Batch   300  of    625.\n",
            "  Batch   350  of    625.\n",
            "  Batch   400  of    625.\n",
            "  Batch   450  of    625.\n",
            "  Batch   500  of    625.\n",
            "  Batch   550  of    625.\n",
            "  Batch   600  of    625.\n",
            "\n",
            "Evaluating...\n",
            "  Batch    50  of     63.\n",
            "\n",
            "Training Loss: 0.012\n",
            "Validation Loss: 0.000\n",
            "\n",
            " Epoch 7 / 10\n",
            "  Batch    50  of    625.\n",
            "  Batch   100  of    625.\n",
            "  Batch   150  of    625.\n",
            "  Batch   200  of    625.\n",
            "  Batch   250  of    625.\n",
            "  Batch   300  of    625.\n",
            "  Batch   350  of    625.\n",
            "  Batch   400  of    625.\n",
            "  Batch   450  of    625.\n",
            "  Batch   500  of    625.\n",
            "  Batch   550  of    625.\n",
            "  Batch   600  of    625.\n",
            "\n",
            "Evaluating...\n",
            "  Batch    50  of     63.\n",
            "\n",
            "Training Loss: 0.009\n",
            "Validation Loss: 0.000\n",
            "\n",
            " Epoch 8 / 10\n",
            "  Batch    50  of    625.\n",
            "  Batch   100  of    625.\n",
            "  Batch   150  of    625.\n",
            "  Batch   200  of    625.\n",
            "  Batch   250  of    625.\n",
            "  Batch   300  of    625.\n",
            "  Batch   350  of    625.\n",
            "  Batch   400  of    625.\n",
            "  Batch   450  of    625.\n",
            "  Batch   500  of    625.\n",
            "  Batch   550  of    625.\n",
            "  Batch   600  of    625.\n",
            "\n",
            "Evaluating...\n",
            "  Batch    50  of     63.\n",
            "\n",
            "Training Loss: 0.009\n",
            "Validation Loss: 0.000\n",
            "\n",
            " Epoch 9 / 10\n",
            "  Batch    50  of    625.\n",
            "  Batch   100  of    625.\n",
            "  Batch   150  of    625.\n",
            "  Batch   200  of    625.\n",
            "  Batch   250  of    625.\n",
            "  Batch   300  of    625.\n",
            "  Batch   350  of    625.\n",
            "  Batch   400  of    625.\n",
            "  Batch   450  of    625.\n",
            "  Batch   500  of    625.\n",
            "  Batch   550  of    625.\n",
            "  Batch   600  of    625.\n",
            "\n",
            "Evaluating...\n",
            "  Batch    50  of     63.\n",
            "\n",
            "Training Loss: 0.009\n",
            "Validation Loss: 0.000\n",
            "\n",
            " Epoch 10 / 10\n",
            "  Batch    50  of    625.\n",
            "  Batch   100  of    625.\n",
            "  Batch   150  of    625.\n",
            "  Batch   200  of    625.\n",
            "  Batch   250  of    625.\n",
            "  Batch   300  of    625.\n",
            "  Batch   350  of    625.\n",
            "  Batch   400  of    625.\n",
            "  Batch   450  of    625.\n",
            "  Batch   500  of    625.\n",
            "  Batch   550  of    625.\n",
            "  Batch   600  of    625.\n",
            "\n",
            "Evaluating...\n",
            "  Batch    50  of     63.\n",
            "\n",
            "Training Loss: 0.006\n",
            "Validation Loss: 0.000\n"
          ],
          "name": "stdout"
        }
      ]
    },
    {
      "cell_type": "code",
      "metadata": {
        "id": "ZeaimNTCaPXC",
        "colab": {
          "base_uri": "https://localhost:8080/"
        },
        "outputId": "6fffbe30-4d3b-43b7-97b3-cd22bcc71a34"
      },
      "source": [
        "#load weights of best model\n",
        "model_name = 'model.pt'\n",
        "model.load_state_dict(torch.load(model_name))"
      ],
      "execution_count": 16,
      "outputs": [
        {
          "output_type": "execute_result",
          "data": {
            "text/plain": [
              "<All keys matched successfully>"
            ]
          },
          "metadata": {
            "tags": []
          },
          "execution_count": 16
        }
      ]
    },
    {
      "cell_type": "code",
      "metadata": {
        "id": "MwwEh_hJek7S",
        "colab": {
          "base_uri": "https://localhost:8080/",
          "height": 142
        },
        "outputId": "99818b7a-c114-42d2-9e99-55723b001e77"
      },
      "source": [
        "with torch.no_grad():\n",
        "  preds,_,_ = model(test_seq0.to(device), test_seq1.to(device))\n",
        "  x,y = preds\n",
        "A = x.detach().cpu().numpy() - y.detach().cpu().numpy()\n",
        "z  = (A > 0).astype(int)\n",
        "pd.crosstab(test_y, z)"
      ],
      "execution_count": 17,
      "outputs": [
        {
          "output_type": "execute_result",
          "data": {
            "text/html": [
              "<div>\n",
              "<style scoped>\n",
              "    .dataframe tbody tr th:only-of-type {\n",
              "        vertical-align: middle;\n",
              "    }\n",
              "\n",
              "    .dataframe tbody tr th {\n",
              "        vertical-align: top;\n",
              "    }\n",
              "\n",
              "    .dataframe thead th {\n",
              "        text-align: right;\n",
              "    }\n",
              "</style>\n",
              "<table border=\"1\" class=\"dataframe\">\n",
              "  <thead>\n",
              "    <tr style=\"text-align: right;\">\n",
              "      <th>col_0</th>\n",
              "      <th>0</th>\n",
              "      <th>1</th>\n",
              "    </tr>\n",
              "    <tr>\n",
              "      <th>row_0</th>\n",
              "      <th></th>\n",
              "      <th></th>\n",
              "    </tr>\n",
              "  </thead>\n",
              "  <tbody>\n",
              "    <tr>\n",
              "      <th>0</th>\n",
              "      <td>450</td>\n",
              "      <td>58</td>\n",
              "    </tr>\n",
              "    <tr>\n",
              "      <th>1</th>\n",
              "      <td>62</td>\n",
              "      <td>430</td>\n",
              "    </tr>\n",
              "  </tbody>\n",
              "</table>\n",
              "</div>"
            ],
            "text/plain": [
              "col_0    0    1\n",
              "row_0          \n",
              "0      450   58\n",
              "1       62  430"
            ]
          },
          "metadata": {
            "tags": []
          },
          "execution_count": 17
        }
      ]
    },
    {
      "cell_type": "code",
      "metadata": {
        "id": "aLNnhZ8eroJP",
        "colab": {
          "base_uri": "https://localhost:8080/"
        },
        "outputId": "f0d34d12-15b7-46e6-ce08-230323e4077c"
      },
      "source": [
        "a=0\n",
        "for i in range(len(test_y)):\n",
        "  if test_y[i] == z[i]:a+=1\n",
        "print('Total Accuracy on Test Set:', float(a/len(test_y)))"
      ],
      "execution_count": 18,
      "outputs": [
        {
          "output_type": "stream",
          "text": [
            "Total Accuracy on Test Set: 0.88\n"
          ],
          "name": "stdout"
        }
      ]
    },
    {
      "cell_type": "code",
      "metadata": {
        "id": "-q52qqbutNRi",
        "colab": {
          "base_uri": "https://localhost:8080/"
        },
        "outputId": "f39cfff5-5d88-47ea-f1a1-1bcf43fc5652"
      },
      "source": [
        "def check(l1,l2):\r\n",
        "  t1, t2 = tokenizer.tokenize(l1), tokenizer.tokenize(l2)\r\n",
        "  t11, t21 = torch.tensor([tokenizer.convert_tokens_to_ids(t1)]), torch.tensor([tokenizer.convert_tokens_to_ids(t2)])\r\n",
        "  preds,_,_ = model(t11.to(device), t21.to(device))\r\n",
        "  x,y = preds\r\n",
        "  A = x.detach().cpu().numpy() - y.detach().cpu().numpy()\r\n",
        "  z  = (A > 0).astype(int)\r\n",
        "  return z[0]\r\n",
        "a = \"whales are huge\"\r\n",
        "b = \"all whales are small\"\r\n",
        "print('returns the wrong answer:', check(a,b))"
      ],
      "execution_count": 23,
      "outputs": [
        {
          "output_type": "stream",
          "text": [
            "returns the wrong answer: 1\n"
          ],
          "name": "stdout"
        }
      ]
    },
    {
      "cell_type": "code",
      "metadata": {
        "id": "WULVOsC2t-Mh"
      },
      "source": [
        "test_labi = pd.read_csv(\"subtaskA_gold_answers.csv\",header=None)\r\n",
        "test_labi = test_labi.drop([1], axis=1)\r\n",
        "test_labi['valid'] = z\r\n",
        "pd.DataFrame(test_labi).to_csv(\"subtaskA_answers.csv\", header=None, index = False)"
      ],
      "execution_count": 20,
      "outputs": []
    },
    {
      "cell_type": "code",
      "metadata": {
        "id": "K2QyUulEl7YK"
      },
      "source": [
        "import matplotlib.pyplot as plt"
      ],
      "execution_count": 24,
      "outputs": []
    },
    {
      "cell_type": "code",
      "metadata": {
        "colab": {
          "base_uri": "https://localhost:8080/",
          "height": 295
        },
        "id": "jkIW0tjelyTN",
        "outputId": "bf9cc9f6-0b2d-4abe-9619-41a96591304c"
      },
      "source": [
        "epoochs = range(0,10)\r\n",
        "plt.plot(epoochs, train_losses, 'g', label='Training loss')\r\n",
        "plt.title('Training and Validation loss')\r\n",
        "plt.xlabel('Epochs')\r\n",
        "plt.ylabel('Loss')\r\n",
        "plt.legend()\r\n",
        "plt.show()"
      ],
      "execution_count": 36,
      "outputs": [
        {
          "output_type": "display_data",
          "data": {
            "image/png": "[encoded data removed]",
            "text/plain": [
              "<Figure size 432x288 with 1 Axes>"
            ]
          },
          "metadata": {
            "tags": [],
            "needs_background": "light"
          }
        }
      ]
    },
    {
      "cell_type": "code",
      "metadata": {
        "id": "ou0tAzsCmOWb"
      },
      "source": [
        ""
      ],
      "execution_count": null,
      "outputs": []
    }
  ]
}